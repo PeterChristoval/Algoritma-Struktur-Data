{
  "nbformat": 4,
  "nbformat_minor": 0,
  "metadata": {
    "colab": {
      "name": "Pengkondisian.ipynb",
      "provenance": [],
      "collapsed_sections": [],
      "authorship_tag": "ABX9TyMCk66mc3gYI+2CQYbmGAQq",
      "include_colab_link": true
    },
    "kernelspec": {
      "name": "python3",
      "display_name": "Python 3"
    },
    "language_info": {
      "name": "python"
    }
  },
  "cells": [
    {
      "cell_type": "markdown",
      "metadata": {
        "id": "view-in-github",
        "colab_type": "text"
      },
      "source": [
        "<a href=\"https://colab.research.google.com/github/PeterChristoval/Algoritma-Struktur-Data/blob/main/Pengkondisian.ipynb\" target=\"_parent\"><img src=\"https://colab.research.google.com/assets/colab-badge.svg\" alt=\"Open In Colab\"/></a>"
      ]
    },
    {
      "cell_type": "code",
      "execution_count": null,
      "metadata": {
        "colab": {
          "base_uri": "https://localhost:8080/"
        },
        "id": "8jQ-0wcSj3Q7",
        "outputId": "08979072-8c3d-4f3d-8b19-b42211e46c9b"
      },
      "outputs": [
        {
          "output_type": "stream",
          "name": "stdout",
          "text": [
            "Nilai A : 5\n",
            "Nilai B : 7\n",
            "Harus belajar yang rajin\n"
          ]
        }
      ],
      "source": [
        "V_a = int(input(\"Nilai A : \"))\n",
        "V_b = int(input(\"Nilai B : \"))\n",
        "\n",
        "if V_a > V_b:\n",
        "   print(\"Belajar Python\")\n",
        "else:\n",
        "   print(\"Harus belajar yang rajin\")"
      ]
    },
    {
      "cell_type": "code",
      "source": [
        "user = input(\"Nilai A : \")\n",
        "password = input(\"Nilai B : \")\n",
        "\n",
        "if user == 'Peter' and password == 123:\n",
        "   print(\"Anda berhasil login\")\n",
        "else:\n",
        "   print(\"Username dan password salah !!!\")"
      ],
      "metadata": {
        "colab": {
          "base_uri": "https://localhost:8080/"
        },
        "id": "zTdjImokojMn",
        "outputId": "52768fdf-a32a-49b7-d454-79f8cb8e16dd"
      },
      "execution_count": null,
      "outputs": [
        {
          "output_type": "stream",
          "name": "stdout",
          "text": [
            "Nilai A : Peter\n",
            "Nilai B : 123\n",
            "Username dan password salah !!!\n"
          ]
        }
      ]
    }
  ]
}