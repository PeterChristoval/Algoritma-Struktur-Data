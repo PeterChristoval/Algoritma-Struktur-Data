{
  "nbformat": 4,
  "nbformat_minor": 0,
  "metadata": {
    "colab": {
      "name": "Pertemuan3.ipynb",
      "provenance": [],
      "collapsed_sections": [],
      "authorship_tag": "ABX9TyP+9qHEJmtjzMyQvlh4xVqv",
      "include_colab_link": true
    },
    "kernelspec": {
      "name": "python3",
      "display_name": "Python 3"
    },
    "language_info": {
      "name": "python"
    }
  },
  "cells": [
    {
      "cell_type": "markdown",
      "metadata": {
        "id": "view-in-github",
        "colab_type": "text"
      },
      "source": [
        "<a href=\"https://colab.research.google.com/github/PeterChristoval/Algoritma-Struktur-Data/blob/main/Pertemuan3.ipynb\" target=\"_parent\"><img src=\"https://colab.research.google.com/assets/colab-badge.svg\" alt=\"Open In Colab\"/></a>"
      ]
    },
    {
      "cell_type": "code",
      "execution_count": null,
      "metadata": {
        "colab": {
          "base_uri": "https://localhost:8080/"
        },
        "id": "ahgB8CaL_zOC",
        "outputId": "acfda93e-af8a-4783-891c-3af383b5279c"
      },
      "outputs": [
        {
          "output_type": "stream",
          "name": "stdout",
          "text": [
            "Peter Christoval\n",
            "19\n",
            "Rantauprapat\n",
            "Bermain Game\n",
            "Laki - Laki\n",
            "170.5\n",
            "True\n",
            "1gej\n"
          ]
        }
      ],
      "source": [
        "nama = 'Peter Christoval'\n",
        "umur = 19\n",
        "alamat = 'Rantauprapat'\n",
        "hobi = 'Bermain Game'\n",
        "jenis_kelamin = 'Laki - Laki'\n",
        "tinggi = 170.5\n",
        "pintar = True\n",
        "\n",
        "print(nama)\n",
        "print(umur)\n",
        "print(alamat)\n",
        "print(hobi)\n",
        "print(jenis_kelamin)\n",
        "print(tinggi)\n",
        "print(pintar)"
      ]
    },
    {
      "cell_type": "code",
      "source": [
        "nama_awal = 'Peter'\n",
        "nama_akhir = 'Christoval'\n",
        "nama_lengkap = nama_awal + ' ' + nama_akhir\n",
        "\n",
        "print(nama_lengkap)\n",
        "print(type(nama_lengkap))"
      ],
      "metadata": {
        "colab": {
          "base_uri": "https://localhost:8080/"
        },
        "id": "N_HqbJqXC8UR",
        "outputId": "89392932-fb2b-41cb-a600-db9c0928ee68"
      },
      "execution_count": null,
      "outputs": [
        {
          "output_type": "stream",
          "name": "stdout",
          "text": [
            "Peter Christoval\n",
            "<class 'str'>\n"
          ]
        }
      ]
    },
    {
      "cell_type": "code",
      "source": [
        "a = 10.0\n",
        "b = 2.5\n",
        "c = -0.5\n",
        "hasil = (a + b + c)/2\n",
        "print(hasil)"
      ],
      "metadata": {
        "colab": {
          "base_uri": "https://localhost:8080/"
        },
        "id": "Av4PrVHuFL-l",
        "outputId": "fa03c093-3f81-4c91-83f6-81cea5f3577f"
      },
      "execution_count": null,
      "outputs": [
        {
          "output_type": "stream",
          "name": "stdout",
          "text": [
            "6.0\n"
          ]
        }
      ]
    },
    {
      "cell_type": "code",
      "source": [
        "a = 6j\n",
        "b = 12j\n",
        "hasil = b-a\n",
        "print(hasil)"
      ],
      "metadata": {
        "colab": {
          "base_uri": "https://localhost:8080/"
        },
        "id": "WL8lorIzFx2c",
        "outputId": "c6008468-b43a-4d68-ba1e-741c6a1f63a7"
      },
      "execution_count": null,
      "outputs": [
        {
          "output_type": "stream",
          "name": "stdout",
          "text": [
            "6j\n"
          ]
        }
      ]
    },
    {
      "cell_type": "code",
      "source": [
        "a = -1 > 1\n",
        "b = 1 == 1\n",
        "\n",
        "print(a)\n",
        "print(b)"
      ],
      "metadata": {
        "colab": {
          "base_uri": "https://localhost:8080/"
        },
        "id": "p5dgvr_8GkfZ",
        "outputId": "d7b29398-af71-481e-c29b-784ed13f819a"
      },
      "execution_count": null,
      "outputs": [
        {
          "output_type": "stream",
          "name": "stdout",
          "text": [
            "False\n",
            "True\n"
          ]
        }
      ]
    }
  ]
}