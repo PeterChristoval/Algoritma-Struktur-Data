{
  "nbformat": 4,
  "nbformat_minor": 0,
  "metadata": {
    "colab": {
      "name": "Pertemuan4.ipynb",
      "provenance": [],
      "authorship_tag": "ABX9TyNvJvXCPS5xzVXYlb2bFwPv",
      "include_colab_link": true
    },
    "kernelspec": {
      "name": "python3",
      "display_name": "Python 3"
    },
    "language_info": {
      "name": "python"
    }
  },
  "cells": [
    {
      "cell_type": "markdown",
      "metadata": {
        "id": "view-in-github",
        "colab_type": "text"
      },
      "source": [
        "<a href=\"https://colab.research.google.com/github/PeterChristoval/Algoritma-Struktur-Data/blob/main/Pertemuan4.ipynb\" target=\"_parent\"><img src=\"https://colab.research.google.com/assets/colab-badge.svg\" alt=\"Open In Colab\"/></a>"
      ]
    },
    {
      "cell_type": "code",
      "execution_count": 3,
      "metadata": {
        "colab": {
          "base_uri": "https://localhost:8080/"
        },
        "id": "H1BMMyluKH0a",
        "outputId": "7cd7219d-dfb9-46bd-b8a1-4a971ebcc7f8"
      },
      "outputs": [
        {
          "output_type": "stream",
          "name": "stdout",
          "text": [
            "masukkan nama pertama Peter\n",
            "masukkan nama kedua Christoval\n",
            "Nama anda adalah Peter Christoval\n"
          ]
        }
      ],
      "source": [
        "a = input(\"masukkan nama pertama \")\n",
        "b = input(\"masukkan nama kedua \")\n",
        "\n",
        "print(\"Nama anda adalah \" + a + \" \" + b)"
      ]
    },
    {
      "cell_type": "code",
      "source": [
        "kode_barang = input(\"Masukkan kode barang : \")\n",
        "nama_barang = input(\"Masukkan nama barang : \")\n",
        "harga_barang = input(\"Masukkan harga barang : \")\n",
        "stok_barang = input(\"Masukkan stok barang : \")\n",
        "beli = input(\"Jumlah produk yang dibeli : \")\n",
        "hasil = int(harga_barang) * int(beli)\n",
        "print(\"=================================\")\n",
        "print(\"Total Transaksi =\", hasil)\n",
        "print(\"Sisa Stok =\", int(stok_barang) - int(beli))"
      ],
      "metadata": {
        "colab": {
          "base_uri": "https://localhost:8080/"
        },
        "id": "Z-3bQ0YCK969",
        "outputId": "f1d9acfb-d10d-4e71-b044-f18a6d58ca7b"
      },
      "execution_count": 8,
      "outputs": [
        {
          "output_type": "stream",
          "name": "stdout",
          "text": [
            "Masukkan kode barang : 0100\n",
            "Masukkan nama barang : Pena\n",
            "Masukkan harga barang : 1500\n",
            "Masukkan stok barang : 10\n",
            "Jumlah produk yang dibeli : 2\n",
            "=================================\n",
            "Total Transaksi = 3000\n",
            "Sisa Stok = 8\n"
          ]
        }
      ]
    }
  ]
}