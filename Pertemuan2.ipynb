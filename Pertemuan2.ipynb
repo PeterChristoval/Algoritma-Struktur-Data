{
  "nbformat": 4,
  "nbformat_minor": 0,
  "metadata": {
    "colab": {
      "name": "Pertemuan2.ipynb",
      "provenance": [],
      "authorship_tag": "ABX9TyPeCPHZo/YzritZZB/wVMPC",
      "include_colab_link": true
    },
    "kernelspec": {
      "name": "python3",
      "display_name": "Python 3"
    },
    "language_info": {
      "name": "python"
    }
  },
  "cells": [
    {
      "cell_type": "markdown",
      "metadata": {
        "id": "view-in-github",
        "colab_type": "text"
      },
      "source": [
        "<a href=\"https://colab.research.google.com/github/PeterChristoval/Algoritma-Struktur-Data/blob/main/Pertemuan2.ipynb\" target=\"_parent\"><img src=\"https://colab.research.google.com/assets/colab-badge.svg\" alt=\"Open In Colab\"/></a>"
      ]
    },
    {
      "cell_type": "code",
      "execution_count": 13,
      "metadata": {
        "colab": {
          "base_uri": "https://localhost:8080/"
        },
        "id": "qpDEaSLi1dw1",
        "outputId": "974c0a1a-25ff-4a04-84d3-48051fb954de"
      },
      "outputs": [
        {
          "output_type": "stream",
          "name": "stdout",
          "text": [
            "Perulangan dan Pengkondisian\n",
            "fortuner\n",
            "Angka Genap\n",
            "Angka Ganjil\n",
            "Angka Genap\n",
            "Angka Ganjil\n",
            "Angka Genap\n",
            "berjenis unggas\n"
          ]
        }
      ],
      "source": [
        "belajar = 'Perulangan dan Pengkondisian'\n",
        "print(belajar)\n",
        "_mobil = 'fortuner'\n",
        "print(_mobil)\n",
        "#Perulangan\n",
        "for i in range(0,5):\n",
        "   #Pengkondisian\n",
        "   if(i % 2 == 0):\n",
        "      print('Angka Genap')\n",
        "   else:\n",
        "      print('Angka Ganjil')\n",
        "AYAM = 'berjenis unggas'\n",
        "print(AYAM)"
      ]
    }
  ]
}